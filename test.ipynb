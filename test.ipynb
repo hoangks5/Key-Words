{
 "cells": [
  {
   "cell_type": "code",
   "execution_count": 4,
   "metadata": {},
   "outputs": [],
   "source": [
    "with open('text.txt','r',encoding='utf-8') as file:\n",
    "    full_text = file.read()"
   ]
  },
  {
   "cell_type": "code",
   "execution_count": 5,
   "metadata": {},
   "outputs": [
    {
     "name": "stdout",
     "output_type": "stream",
     "text": [
      "Keyphrase:  Metaverse : score 0.004252830557097963\n",
      "Keyphrase:  world : score 0.04342778010943234\n",
      "Keyphrase:  building the metaverse : score 0.04839690603725169\n",
      "Keyphrase:  true metaverse : score 0.04902767005246639\n",
      "Keyphrase:  building : score 0.05291218186749086\n",
      "Keyphrase:  virtual world : score 0.07074222920125948\n",
      "Keyphrase:  metaverses : score 0.07442453474921437\n",
      "Keyphrase:  building individual metaverses : score 0.08945073236420895\n",
      "Keyphrase:  Metaverse projects : score 0.09732818797747453\n",
      "Keyphrase:  connect : score 0.10031024334114362\n"
     ]
    }
   ],
   "source": [
    "import yake\n",
    "kw_extractor = yake.KeywordExtractor(top=10, stopwords=None)\n",
    "keywords = kw_extractor.extract_keywords(full_text)\n",
    "for kw, v in keywords:\n",
    "  print(\"Keyphrase: \",kw, \": score\", v)"
   ]
  },
  {
   "cell_type": "code",
   "execution_count": 6,
   "metadata": {},
   "outputs": [
    {
     "name": "stdout",
     "output_type": "stream",
     "text": [
      "[('draft industry standards', 9.0), ('devoting huge amounts', 9.0), ('inspiring multiple projects', 8.5), (\"metaverse's ultimate mission\", 8.5), ('big companies mentioning', 8.0), ('fewer physical limitations', 7.5), ('current technology capacity', 7.333333333333334), ('developing metaverse projects', 7.147058823529411), ('greater virtual world', 6.527777777777778), ('building individual metaverses', 6.25)]\n"
     ]
    }
   ],
   "source": [
    "from multi_rake import Rake\n",
    "rake = Rake()\n",
    "keywords = rake.apply(full_text)\n",
    "print(keywords[:10])"
   ]
  },
  {
   "cell_type": "code",
   "execution_count": 7,
   "metadata": {},
   "outputs": [
    {
     "name": "stdout",
     "output_type": "stream",
     "text": [
      "[('metaverse', 0.40785769087075036), ('metaverses', 0.40785769087075036), ('current technology', 0.15527415967627317), ('world', 0.14825695809210473), ('currently', 0.1383509033245286), ('company', 0.13345806522525172), ('standards', 0.13153277127661986), ('standard', 0.13153277127661986), ('official', 0.12452671168461936), ('officially', 0.12452671168461936)]\n"
     ]
    }
   ],
   "source": [
    "from summa import keywords\n",
    "TR_keywords = keywords.keywords(full_text, scores=True)\n",
    "print(TR_keywords[0:10])"
   ]
  },
  {
   "cell_type": "code",
   "execution_count": 8,
   "metadata": {},
   "outputs": [],
   "source": [
    "from keybert import KeyBERT\n",
    "kw_model = KeyBERT(model='all-mpnet-base-v2')"
   ]
  },
  {
   "cell_type": "code",
   "execution_count": 10,
   "metadata": {},
   "outputs": [
    {
     "data": {
      "text/html": [
       "<pre style=\"white-space:pre;overflow-x:auto;line-height:normal;font-family:Menlo,'DejaVu Sans Mono',consolas,'Courier New',monospace\">Metaverse the beyond verse is this fantasy dream or the next utopia of our kind Perhaps both The concept has been \n",
       "around for few decades inspiring multiple projects but with Covid 19 pandemic Metaverse truly took its chance to \n",
       "rise and probably will not stop anytime soon But what is the metaverse really The concept of the metaverse The \n",
       "<span style=\"color: #000000; text-decoration-color: #000000; background-color: #ffff00\">Metaverse concept</span> that has been around since 1992 from the science fiction novel Snow Crash as portmanteau of meta \n",
       "and universe recently rose as one of the most mentioned words all around the world We see all the big companies \n",
       "mentioning the metaverse Facebook changed its holding company name to Meta and even the governments are getting \n",
       "involved China now has its own Metaverse committee to help fund start ups and draft industry standards Expected to \n",
       "generate up to trillion in value by 2030 in the McKinsey 2022 report while attracting 13 billion investment in 2022\n",
       "double the 2021 figure the metaverse is definitely one of the most anticipated concepts in internet and Web3 \n",
       "development With all the attention pouring in no one seems to share the exact understanding toward the metaverse \n",
       "except circling sheer idea of it as virtual world where everyone can connect and enjoy various activities together \n",
       "with no geographical or physical limitations As of 2022 there no official definition of what the metaverse should \n",
       "be as it is not officially established yet And believe it or not this might be good thing Even though people are \n",
       "devoting huge amounts of money time and effort to developing Metaverse projects the current technology capacity \n",
       "might not be enough By building clear definition now we might limit our creativity to what we are currently capable\n",
       "of instead of what the metaverse can really be with more advanced technology The ultimate society for our kind So \n",
       "what do we think the metaverse should be and who has the biggest chance of building the true Metaverse first Unlike\n",
       "the current effort of building individual metaverses of each and every company out there we believe that the true \n",
       "metaverse should be one that is able to connect all kinds of other small metaverses combining those parts into one \n",
       "united form In that dreamland everyone should be able to submerge themselves into new world where they can do new \n",
       "activities or work on their daily activities with no limitations they might face in real life The metaverse should \n",
       "be able to connect everyone and anyone no matter where they are or what they do Perhaps that is the metaverse \n",
       "ultimate mission to provide fantasy world an environment where nothing is impossible for everyone Either through \n",
       "fancy technology like AR MR and VR or any other form even through your normal screen with 2D the metaverse should \n",
       "only be the portal that transfers one to the virtual world Everything that we can do in real life we should be able\n",
       "to do and maybe expand those activities even more in the metaverse And the actions we take in the metaverse might \n",
       "one day be advanced enough to transfer the result to real life We imagine the metaverse would provide all sources \n",
       "of activities and services for everyone to play connect create and contribute creating more open and transparent \n",
       "society And now we start to wonder when will this Metaverse be officially formed To be honest we have no idea \n",
       "either The human capability and creativity are beyond imagination while the technology we dreamt of for the \n",
       "metaverse is not yet introduced Just like the race to build the internet the race to Web3 and the Metaverse is \n",
       "fiercer than ever As we mentioned above everyone is trying to find the correct key to building the metaverse It \n",
       "might take years or decades to finally figure it out and surely one day we will reach the dream of building the \n",
       "next utopia for our kind But except for being virtual world with fewer physical limitations should the metaverse be\n",
       "like our real life with governments and countries Is that truly boundless like we imagined In the race of building \n",
       "the metaverse big corporations and governments are working on the Metaverse for their own purposes trying to \n",
       "dominate the game once again However in our point of view the true metaverse human kind next utopia should belong \n",
       "to no one but everyone The new world of the people by the people and for the people The metaverse should be fully \n",
       "decentralized with the facility and infrastructure support of multiple companies and communities on Web3 To build \n",
       "greater virtual world and create free zone for everyone to freely express themselves be creative and contribute \n",
       "toward greater reality Rather than singular project the Metaverse should be an open standard system which has the \n",
       "ability to connect and bring other systems together despite all differences in the nature of their foundation An \n",
       "ideal world where everyone can join hands in relaxing working creating and adding values together is what the \n",
       "metaverse should aim to achieve After all the dream of building the metaverse comes from those who are not yet \n",
       "satisfied with the current achievements of the internet environment and as it should be always aiming toward better\n",
       "tomorrow That the end of our first piece on the metaverse and as someone working directly in the blockchain and \n",
       "Web3 environment we will keep looking forward to the development of the Metaverse As long as we keep building and \n",
       "focusing on the goal of creating great environment for our society the sky the limit\n",
       "</pre>\n"
      ],
      "text/plain": [
       "Metaverse the beyond verse is this fantasy dream or the next utopia of our kind Perhaps both The concept has been \n",
       "around for few decades inspiring multiple projects but with Covid 19 pandemic Metaverse truly took its chance to \n",
       "rise and probably will not stop anytime soon But what is the metaverse really The concept of the metaverse The \n",
       "\u001b[30;48;2;255;255;0mMetaverse concept\u001b[0m that has been around since 1992 from the science fiction novel Snow Crash as portmanteau of meta \n",
       "and universe recently rose as one of the most mentioned words all around the world We see all the big companies \n",
       "mentioning the metaverse Facebook changed its holding company name to Meta and even the governments are getting \n",
       "involved China now has its own Metaverse committee to help fund start ups and draft industry standards Expected to \n",
       "generate up to trillion in value by 2030 in the McKinsey 2022 report while attracting 13 billion investment in 2022\n",
       "double the 2021 figure the metaverse is definitely one of the most anticipated concepts in internet and Web3 \n",
       "development With all the attention pouring in no one seems to share the exact understanding toward the metaverse \n",
       "except circling sheer idea of it as virtual world where everyone can connect and enjoy various activities together \n",
       "with no geographical or physical limitations As of 2022 there no official definition of what the metaverse should \n",
       "be as it is not officially established yet And believe it or not this might be good thing Even though people are \n",
       "devoting huge amounts of money time and effort to developing Metaverse projects the current technology capacity \n",
       "might not be enough By building clear definition now we might limit our creativity to what we are currently capable\n",
       "of instead of what the metaverse can really be with more advanced technology The ultimate society for our kind So \n",
       "what do we think the metaverse should be and who has the biggest chance of building the true Metaverse first Unlike\n",
       "the current effort of building individual metaverses of each and every company out there we believe that the true \n",
       "metaverse should be one that is able to connect all kinds of other small metaverses combining those parts into one \n",
       "united form In that dreamland everyone should be able to submerge themselves into new world where they can do new \n",
       "activities or work on their daily activities with no limitations they might face in real life The metaverse should \n",
       "be able to connect everyone and anyone no matter where they are or what they do Perhaps that is the metaverse \n",
       "ultimate mission to provide fantasy world an environment where nothing is impossible for everyone Either through \n",
       "fancy technology like AR MR and VR or any other form even through your normal screen with 2D the metaverse should \n",
       "only be the portal that transfers one to the virtual world Everything that we can do in real life we should be able\n",
       "to do and maybe expand those activities even more in the metaverse And the actions we take in the metaverse might \n",
       "one day be advanced enough to transfer the result to real life We imagine the metaverse would provide all sources \n",
       "of activities and services for everyone to play connect create and contribute creating more open and transparent \n",
       "society And now we start to wonder when will this Metaverse be officially formed To be honest we have no idea \n",
       "either The human capability and creativity are beyond imagination while the technology we dreamt of for the \n",
       "metaverse is not yet introduced Just like the race to build the internet the race to Web3 and the Metaverse is \n",
       "fiercer than ever As we mentioned above everyone is trying to find the correct key to building the metaverse It \n",
       "might take years or decades to finally figure it out and surely one day we will reach the dream of building the \n",
       "next utopia for our kind But except for being virtual world with fewer physical limitations should the metaverse be\n",
       "like our real life with governments and countries Is that truly boundless like we imagined In the race of building \n",
       "the metaverse big corporations and governments are working on the Metaverse for their own purposes trying to \n",
       "dominate the game once again However in our point of view the true metaverse human kind next utopia should belong \n",
       "to no one but everyone The new world of the people by the people and for the people The metaverse should be fully \n",
       "decentralized with the facility and infrastructure support of multiple companies and communities on Web3 To build \n",
       "greater virtual world and create free zone for everyone to freely express themselves be creative and contribute \n",
       "toward greater reality Rather than singular project the Metaverse should be an open standard system which has the \n",
       "ability to connect and bring other systems together despite all differences in the nature of their foundation An \n",
       "ideal world where everyone can join hands in relaxing working creating and adding values together is what the \n",
       "metaverse should aim to achieve After all the dream of building the metaverse comes from those who are not yet \n",
       "satisfied with the current achievements of the internet environment and as it should be always aiming toward better\n",
       "tomorrow That the end of our first piece on the metaverse and as someone working directly in the blockchain and \n",
       "Web3 environment we will keep looking forward to the development of the Metaverse As long as we keep building and \n",
       "focusing on the goal of creating great environment for our society the sky the limit\n"
      ]
     },
     "metadata": {},
     "output_type": "display_data"
    },
    {
     "name": "stdout",
     "output_type": "stream",
     "text": [
      "['metaverse concept', 'metaverse really concept']\n"
     ]
    }
   ],
   "source": [
    "keywords = kw_model.extract_keywords(full_text, \n",
    "\n",
    "                                     keyphrase_ngram_range=(1, 10), \n",
    "\n",
    "                                     stop_words='english',\n",
    "\n",
    "                                     highlight=False,\n",
    "\n",
    "                                     top_n=2)\n",
    "\n",
    "keywords_list= list(dict(keywords).keys())\n",
    "print(keywords_list)"
   ]
  },
  {
   "cell_type": "code",
   "execution_count": null,
   "metadata": {},
   "outputs": [],
   "source": []
  }
 ],
 "metadata": {
  "kernelspec": {
   "display_name": "Python 3.10.5 64-bit",
   "language": "python",
   "name": "python3"
  },
  "language_info": {
   "codemirror_mode": {
    "name": "ipython",
    "version": 3
   },
   "file_extension": ".py",
   "mimetype": "text/x-python",
   "name": "python",
   "nbconvert_exporter": "python",
   "pygments_lexer": "ipython3",
   "version": "3.10.5"
  },
  "orig_nbformat": 4,
  "vscode": {
   "interpreter": {
    "hash": "aee8b7b246df8f9039afb4144a1f6fd8d2ca17a180786b69acc140d282b71a49"
   }
  }
 },
 "nbformat": 4,
 "nbformat_minor": 2
}
