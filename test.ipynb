{
 "cells": [
  {
   "cell_type": "code",
   "execution_count": 8,
   "metadata": {},
   "outputs": [],
   "source": [
    "with open('text.txt','r',encoding='utf-8') as file:\n",
    "    full_text = file.read()"
   ]
  },
  {
   "cell_type": "code",
   "execution_count": 9,
   "metadata": {},
   "outputs": [
    {
     "name": "stdout",
     "output_type": "stream",
     "text": [
      "Keyphrase:  problem : score 0.033776429698420395\n",
      "Keyphrase:  solution : score 0.03400267747642423\n",
      "Keyphrase:  constraint : score 0.035497958364960655\n",
      "Keyphrase:  KKT : score 0.04732586034227692\n",
      "Keyphrase:  inequality constraints : score 0.05978889522173199\n",
      "Keyphrase:  solution ifthat constraint : score 0.07671259011733038\n",
      "Keyphrase:  constraint excludesother solutions : score 0.07934413620739232\n",
      "Keyphrase:  gradient : score 0.08665319518106154\n",
      "Keyphrase:  generalized La-grange function : score 0.08694292445211135\n",
      "Keyphrase:  CHAPTER : score 0.09706171580819022\n"
     ]
    }
   ],
   "source": [
    "import yake\n",
    "kw_extractor = yake.KeywordExtractor(top=10, stopwords=None)\n",
    "keywords = kw_extractor.extract_keywords(full_text)\n",
    "for kw, v in keywords:\n",
    "  print(\"Keyphrase: \",kw, \": score\", v)"
   ]
  },
  {
   "cell_type": "code",
   "execution_count": 10,
   "metadata": {},
   "outputs": [
    {
     "name": "stdout",
     "output_type": "stream",
     "text": [
      "[('deﬁne itwith addition', 9.0), ('a\\ue03ea + 2λi', 9.0), ('develop machinelearning algorithms', 9.0), ('constrained opti-mization problems', 8.5), ('=12||ax − b||22', 8.5), ('localstationary points excluded', 8.333333333333334), ('becausethe true function', 8.333333333333334), ('taking small steps', 8.0), ('quadratic approximation employed', 8.0), ('linear equation forxwill', 8.0)]\n"
     ]
    }
   ],
   "source": [
    "from multi_rake import Rake\n",
    "rake = Rake()\n",
    "keywords = rake.apply(full_text)\n",
    "print(keywords[:10])"
   ]
  },
  {
   "cell_type": "code",
   "execution_count": 11,
   "metadata": {},
   "outputs": [
    {
     "name": "stdout",
     "output_type": "stream",
     "text": [
      "[('x', 0.40313281614177177), ('problem', 0.2261230157809111), ('problems', 0.2261230157809111), ('α', 0.19620608475562126), ('constraints', 0.1892540852100651), ('constraint', 0.1892540852100651), ('gradient', 0.17889355923585482), ('points', 0.15225349414764922), ('point', 0.15225349414764922), ('norm', 0.1506210371743589)]\n"
     ]
    }
   ],
   "source": [
    "from summa import keywords\n",
    "TR_keywords = keywords.keywords(full_text, scores=True)\n",
    "print(TR_keywords[0:10])"
   ]
  },
  {
   "cell_type": "code",
   "execution_count": 6,
   "metadata": {},
   "outputs": [
    {
     "name": "stderr",
     "output_type": "stream",
     "text": [
      "/Library/Frameworks/Python.framework/Versions/3.10/lib/python3.10/site-packages/tqdm/auto.py:22: TqdmWarning: IProgress not found. Please update jupyter and ipywidgets. See https://ipywidgets.readthedocs.io/en/stable/user_install.html\n",
      "  from .autonotebook import tqdm as notebook_tqdm\n",
      "Downloading: 100%|██████████| 1.18k/1.18k [00:00<00:00, 350kB/s]\n",
      "Downloading: 100%|██████████| 190/190 [00:00<00:00, 65.5kB/s]\n",
      "Downloading: 100%|██████████| 10.6k/10.6k [00:00<00:00, 2.65MB/s]\n",
      "Downloading: 100%|██████████| 571/571 [00:00<00:00, 223kB/s]\n",
      "Downloading: 100%|██████████| 116/116 [00:00<00:00, 43.6kB/s]\n",
      "Downloading: 100%|██████████| 39.3k/39.3k [00:00<00:00, 126kB/s] \n",
      "Downloading: 100%|██████████| 438M/438M [00:29<00:00, 14.9MB/s] \n",
      "Downloading: 100%|██████████| 53.0/53.0 [00:00<00:00, 13.0kB/s]\n",
      "Downloading: 100%|██████████| 239/239 [00:00<00:00, 79.6kB/s]\n",
      "Downloading: 100%|██████████| 466k/466k [00:01<00:00, 331kB/s]  \n",
      "Downloading: 100%|██████████| 363/363 [00:00<00:00, 117kB/s]\n",
      "Downloading: 100%|██████████| 13.1k/13.1k [00:00<00:00, 2.56MB/s]\n",
      "Downloading: 100%|██████████| 232k/232k [00:00<00:00, 273kB/s] \n",
      "Downloading: 100%|██████████| 349/349 [00:00<00:00, 141kB/s]\n"
     ]
    },
    {
     "name": "stdout",
     "output_type": "stream",
     "text": [
      "['singular value decomposition', 'eigendecomposition involves analyzing', 'eigendecomposition', 'square eigendecomposition deﬁned', 'eigendecomposition functions', 'eigendecomposition involves', 'eigendecomposition deﬁned', 'ofthe eigendecomposition', 'svd', 'square eigendecomposition']\n"
     ]
    }
   ],
   "source": [
    "from keybert import KeyBERT\n",
    "kw_model = KeyBERT(model='all-mpnet-base-v2')"
   ]
  },
  {
   "cell_type": "code",
   "execution_count": 12,
   "metadata": {},
   "outputs": [],
   "source": [
    "keywords = kw_model.extract_keywords(full_text, \n",
    "\n",
    "                                     keyphrase_ngram_range=(1, 3), \n",
    "\n",
    "                                     stop_words='english', \n",
    "\n",
    "                                     highlight=False,\n",
    "\n",
    "                                     top_n=10)\n",
    "\n",
    "keywords_list= list(dict(keywords).keys())\n",
    "\n",
    "print(keywords_list)"
   ]
  },
  {
   "cell_type": "code",
   "execution_count": null,
   "metadata": {},
   "outputs": [],
   "source": []
  }
 ],
 "metadata": {
  "kernelspec": {
   "display_name": "Python 3.10.5 64-bit",
   "language": "python",
   "name": "python3"
  },
  "language_info": {
   "codemirror_mode": {
    "name": "ipython",
    "version": 3
   },
   "file_extension": ".py",
   "mimetype": "text/x-python",
   "name": "python",
   "nbconvert_exporter": "python",
   "pygments_lexer": "ipython3",
   "version": "3.10.5"
  },
  "orig_nbformat": 4,
  "vscode": {
   "interpreter": {
    "hash": "aee8b7b246df8f9039afb4144a1f6fd8d2ca17a180786b69acc140d282b71a49"
   }
  }
 },
 "nbformat": 4,
 "nbformat_minor": 2
}
