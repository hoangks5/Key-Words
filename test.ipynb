{
 "cells": [
  {
   "cell_type": "code",
   "execution_count": 4,
   "metadata": {},
   "outputs": [],
   "source": [
    "with open('text.txt','r',encoding='utf-8') as file:\n",
    "    full_text = file.read()"
   ]
  },
  {
   "cell_type": "code",
   "execution_count": 5,
   "metadata": {},
   "outputs": [
    {
     "name": "stdout",
     "output_type": "stream",
     "text": [
      "Keyphrase:  Metaverse : score 0.004252830557097963\n",
      "Keyphrase:  world : score 0.04342778010943234\n",
      "Keyphrase:  building the metaverse : score 0.04839690603725169\n",
      "Keyphrase:  true metaverse : score 0.04902767005246639\n",
      "Keyphrase:  building : score 0.05291218186749086\n",
      "Keyphrase:  virtual world : score 0.07074222920125948\n",
      "Keyphrase:  metaverses : score 0.07442453474921437\n",
      "Keyphrase:  building individual metaverses : score 0.08945073236420895\n",
      "Keyphrase:  Metaverse projects : score 0.09732818797747453\n",
      "Keyphrase:  connect : score 0.10031024334114362\n"
     ]
    }
   ],
   "source": [
    "import yake\n",
    "kw_extractor = yake.KeywordExtractor(top=10, stopwords=None)\n",
    "keywords = kw_extractor.extract_keywords(full_text)\n",
    "for kw, v in keywords:\n",
    "  print(\"Keyphrase: \",kw, \": score\", v)"
   ]
  },
  {
   "cell_type": "code",
   "execution_count": 6,
   "metadata": {},
   "outputs": [
    {
     "name": "stdout",
     "output_type": "stream",
     "text": [
      "[('draft industry standards', 9.0), ('devoting huge amounts', 9.0), ('inspiring multiple projects', 8.5), (\"metaverse's ultimate mission\", 8.5), ('big companies mentioning', 8.0), ('fewer physical limitations', 7.5), ('current technology capacity', 7.333333333333334), ('developing metaverse projects', 7.147058823529411), ('greater virtual world', 6.527777777777778), ('building individual metaverses', 6.25)]\n"
     ]
    }
   ],
   "source": [
    "from multi_rake import Rake\n",
    "rake = Rake()\n",
    "keywords = rake.apply(full_text)\n",
    "print(keywords[:10])"
   ]
  },
  {
   "cell_type": "code",
   "execution_count": 7,
   "metadata": {},
   "outputs": [
    {
     "name": "stdout",
     "output_type": "stream",
     "text": [
      "[('metaverse', 0.40785769087075036), ('metaverses', 0.40785769087075036), ('current technology', 0.15527415967627317), ('world', 0.14825695809210473), ('currently', 0.1383509033245286), ('company', 0.13345806522525172), ('standards', 0.13153277127661986), ('standard', 0.13153277127661986), ('official', 0.12452671168461936), ('officially', 0.12452671168461936)]\n"
     ]
    }
   ],
   "source": [
    "from summa import keywords\n",
    "TR_keywords = keywords.keywords(full_text, scores=True)\n",
    "print(TR_keywords[0:10])"
   ]
  },
  {
   "cell_type": "code",
   "execution_count": 8,
   "metadata": {},
   "outputs": [],
   "source": [
    "from keybert import KeyBERT\n",
    "kw_model = KeyBERT(model='all-mpnet-base-v2')"
   ]
  },
  {
   "cell_type": "code",
   "execution_count": 11,
   "metadata": {},
   "outputs": [
    {
     "name": "stdout",
     "output_type": "stream",
     "text": [
      "['metaverse definitely anticipated concepts internet', 'metaverse definitely anticipated concepts internet web3']\n"
     ]
    }
   ],
   "source": [
    "keywords = kw_model.extract_keywords(full_text, \n",
    "\n",
    "                                     keyphrase_ngram_range=(1, 3), \n",
    "\n",
    "                                     stop_words='english',\n",
    "\n",
    "                                     highlight=False,\n",
    "\n",
    "                                     top_n=2)\n",
    "\n",
    "keywords_list= list(dict(keywords).keys())\n",
    "print(keywords_list)"
   ]
  },
  {
   "cell_type": "code",
   "execution_count": null,
   "metadata": {},
   "outputs": [],
   "source": []
  }
 ],
 "metadata": {
  "kernelspec": {
   "display_name": "Python 3.10.5 64-bit",
   "language": "python",
   "name": "python3"
  },
  "language_info": {
   "codemirror_mode": {
    "name": "ipython",
    "version": 3
   },
   "file_extension": ".py",
   "mimetype": "text/x-python",
   "name": "python",
   "nbconvert_exporter": "python",
   "pygments_lexer": "ipython3",
   "version": "3.10.5"
  },
  "orig_nbformat": 4,
  "vscode": {
   "interpreter": {
    "hash": "aee8b7b246df8f9039afb4144a1f6fd8d2ca17a180786b69acc140d282b71a49"
   }
  }
 },
 "nbformat": 4,
 "nbformat_minor": 2
}
