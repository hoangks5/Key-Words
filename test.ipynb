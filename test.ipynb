{
 "cells": [
  {
   "cell_type": "code",
   "execution_count": 1,
   "metadata": {},
   "outputs": [],
   "source": [
    "with open('text.txt','r',encoding='utf-8') as file:\n",
    "    full_text = file.read()"
   ]
  },
  {
   "cell_type": "code",
   "execution_count": 3,
   "metadata": {},
   "outputs": [
    {
     "name": "stdout",
     "output_type": "stream",
     "text": [
      "Keyphrase:  matrix : score 0.01752722399196834\n",
      "Keyphrase:  trace operator : score 0.02654323102031952\n",
      "Keyphrase:  deﬁned : score 0.02913257171170209\n",
      "Keyphrase:  LINEAR : score 0.03072271762980497\n",
      "Keyphrase:  arg minc : score 0.03268151719372056\n",
      "Keyphrase:  Trace : score 0.037223612180786105\n",
      "Keyphrase:  singular value decomposition : score 0.03888551105698256\n",
      "Keyphrase:  CHAPTER : score 0.04891280616229683\n",
      "Keyphrase:  square matrix : score 0.0627845291305997\n",
      "Keyphrase:  operator : score 0.06557570140886203\n"
     ]
    }
   ],
   "source": [
    "import yake\n",
    "kw_extractor = yake.KeywordExtractor(top=10, stopwords=None)\n",
    "keywords = kw_extractor.extract_keywords(full_text)\n",
    "for kw, v in keywords:\n",
    "  print(\"Keyphrase: \",kw, \": score\", v)"
   ]
  },
  {
   "cell_type": "code",
   "execution_count": 4,
   "metadata": {},
   "outputs": [
    {
     "name": "stdout",
     "output_type": "stream",
     "text": [
      "[('thesingular valuesofthe matrixa', 9.0), ('moore-penrose pseudoinversematrix inversion', 9.0), ('design aunique mapping', 9.0), ('headway inthese cases', 9.0), ('speciﬁed usingmatrix products', 9.0), ('cyclic permutation holds', 9.0), ('principal components analysis', 9.0), ('iflis smaller thann', 9.0), ('c∗= arg minc−2x\\ue03eg', 9.0), ('a\\ue03ea + αi', 8.666666666666666)]\n"
     ]
    }
   ],
   "source": [
    "from multi_rake import Rake\n",
    "rake = Rake()\n",
    "keywords = rake.apply(full_text)\n",
    "print(keywords[:10])"
   ]
  },
  {
   "cell_type": "code",
   "execution_count": 5,
   "metadata": {},
   "outputs": [
    {
     "name": "stdout",
     "output_type": "stream",
     "text": [
      "[('matrix', 0.2906016566530801), ('norm', 0.224652717508971), ('x', 0.2209404087347398), ('tr', 0.1924604955605612), ('operator', 0.17506236654540297), ('operations', 0.17506236654540297), ('linear', 0.16138258222850604), ('values', 0.1378707833691758), ('squaring operation', 0.13492872180583196), ('c', 0.12526780722495692)]\n"
     ]
    }
   ],
   "source": [
    "from summa import keywords\n",
    "TR_keywords = keywords.keywords(full_text, scores=True)\n",
    "print(TR_keywords[0:10])"
   ]
  },
  {
   "cell_type": "code",
   "execution_count": 6,
   "metadata": {},
   "outputs": [
    {
     "name": "stderr",
     "output_type": "stream",
     "text": [
      "/Library/Frameworks/Python.framework/Versions/3.10/lib/python3.10/site-packages/tqdm/auto.py:22: TqdmWarning: IProgress not found. Please update jupyter and ipywidgets. See https://ipywidgets.readthedocs.io/en/stable/user_install.html\n",
      "  from .autonotebook import tqdm as notebook_tqdm\n",
      "Downloading: 100%|██████████| 1.18k/1.18k [00:00<00:00, 350kB/s]\n",
      "Downloading: 100%|██████████| 190/190 [00:00<00:00, 65.5kB/s]\n",
      "Downloading: 100%|██████████| 10.6k/10.6k [00:00<00:00, 2.65MB/s]\n",
      "Downloading: 100%|██████████| 571/571 [00:00<00:00, 223kB/s]\n",
      "Downloading: 100%|██████████| 116/116 [00:00<00:00, 43.6kB/s]\n",
      "Downloading: 100%|██████████| 39.3k/39.3k [00:00<00:00, 126kB/s] \n",
      "Downloading: 100%|██████████| 438M/438M [00:29<00:00, 14.9MB/s] \n",
      "Downloading: 100%|██████████| 53.0/53.0 [00:00<00:00, 13.0kB/s]\n",
      "Downloading: 100%|██████████| 239/239 [00:00<00:00, 79.6kB/s]\n",
      "Downloading: 100%|██████████| 466k/466k [00:01<00:00, 331kB/s]  \n",
      "Downloading: 100%|██████████| 363/363 [00:00<00:00, 117kB/s]\n",
      "Downloading: 100%|██████████| 13.1k/13.1k [00:00<00:00, 2.56MB/s]\n",
      "Downloading: 100%|██████████| 232k/232k [00:00<00:00, 273kB/s] \n",
      "Downloading: 100%|██████████| 349/349 [00:00<00:00, 141kB/s]\n"
     ]
    },
    {
     "name": "stdout",
     "output_type": "stream",
     "text": [
      "['singular value decomposition', 'eigendecomposition involves analyzing', 'eigendecomposition', 'square eigendecomposition deﬁned', 'eigendecomposition functions', 'eigendecomposition involves', 'eigendecomposition deﬁned', 'ofthe eigendecomposition', 'svd', 'square eigendecomposition']\n"
     ]
    }
   ],
   "source": [
    "from keybert import KeyBERT\n",
    "kw_model = KeyBERT(model='all-mpnet-base-v2')"
   ]
  },
  {
   "cell_type": "code",
   "execution_count": null,
   "metadata": {},
   "outputs": [],
   "source": []
  }
 ],
 "metadata": {
  "kernelspec": {
   "display_name": "Python 3.10.5 64-bit",
   "language": "python",
   "name": "python3"
  },
  "language_info": {
   "codemirror_mode": {
    "name": "ipython",
    "version": 3
   },
   "file_extension": ".py",
   "mimetype": "text/x-python",
   "name": "python",
   "nbconvert_exporter": "python",
   "pygments_lexer": "ipython3",
   "version": "3.10.5"
  },
  "orig_nbformat": 4,
  "vscode": {
   "interpreter": {
    "hash": "aee8b7b246df8f9039afb4144a1f6fd8d2ca17a180786b69acc140d282b71a49"
   }
  }
 },
 "nbformat": 4,
 "nbformat_minor": 2
}
