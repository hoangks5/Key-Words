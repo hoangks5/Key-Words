{
 "cells": [
  {
   "cell_type": "code",
   "execution_count": 20,
   "metadata": {},
   "outputs": [],
   "source": [
    "with open('text.txt','r',encoding='utf-8') as file:\n",
    "    full_text = file.read()"
   ]
  },
  {
   "cell_type": "code",
   "execution_count": 21,
   "metadata": {},
   "outputs": [
    {
     "name": "stdout",
     "output_type": "stream",
     "text": [
      "Keyphrase:  keyword extraction process : score 0.046301181271590976\n",
      "Keyphrase:  important words : score 0.04865897314987159\n",
      "Keyphrase:  extraction process : score 0.06279434913170119\n",
      "Keyphrase:  identifying the important : score 0.06279434913170119\n",
      "Keyphrase:  article : score 0.1461413170444096\n",
      "Keyphrase:  keyword extraction : score 0.16159304321137796\n",
      "Keyphrase:  keywords : score 0.19077072907508577\n",
      "Keyphrase:  words : score 0.1908943168226795\n",
      "Keyphrase:  text data : score 0.2348321813453243\n",
      "Keyphrase:  extraction : score 0.2430724079969972\n"
     ]
    }
   ],
   "source": [
    "import yake\n",
    "kw_extractor = yake.KeywordExtractor(top=10, stopwords=None)\n",
    "keywords = kw_extractor.extract_keywords(full_text)\n",
    "for kw, v in keywords:\n",
    "  print(\"Keyphrase: \",kw, \": score\", v)"
   ]
  },
  {
   "cell_type": "code",
   "execution_count": 22,
   "metadata": {},
   "outputs": [
    {
     "name": "stdout",
     "output_type": "stream",
     "text": [
      "[('topic modeling tasks', 8.5), ('nlp tasks', 4.5), ('important words', 4.0), ('text data', 4.0), ('python libraries', 4.0), ('similar task', 4.0), ('identifying', 1.0), ('effective', 1.0), ('lot', 1.0), ('keywords', 1.0)]\n"
     ]
    }
   ],
   "source": [
    "from multi_rake import Rake\n",
    "rake = Rake()\n",
    "keywords = rake.apply(full_text)\n",
    "print(keywords[:10])"
   ]
  },
  {
   "cell_type": "code",
   "execution_count": 23,
   "metadata": {},
   "outputs": [
    {
     "name": "stdout",
     "output_type": "stream",
     "text": [
      "[('keyword extraction process helps', 0.4742402220904325), ('help', 0.3161601480602888), ('keywords', 0.31616014806028764)]\n"
     ]
    }
   ],
   "source": [
    "from summa import keywords\n",
    "TR_keywords = keywords.keywords(full_text, scores=True)\n",
    "print(TR_keywords[0:10])"
   ]
  },
  {
   "cell_type": "code",
   "execution_count": 6,
   "metadata": {},
   "outputs": [
    {
     "name": "stderr",
     "output_type": "stream",
     "text": [
      "/Library/Frameworks/Python.framework/Versions/3.10/lib/python3.10/site-packages/tqdm/auto.py:22: TqdmWarning: IProgress not found. Please update jupyter and ipywidgets. See https://ipywidgets.readthedocs.io/en/stable/user_install.html\n",
      "  from .autonotebook import tqdm as notebook_tqdm\n",
      "Downloading: 100%|██████████| 1.18k/1.18k [00:00<00:00, 350kB/s]\n",
      "Downloading: 100%|██████████| 190/190 [00:00<00:00, 65.5kB/s]\n",
      "Downloading: 100%|██████████| 10.6k/10.6k [00:00<00:00, 2.65MB/s]\n",
      "Downloading: 100%|██████████| 571/571 [00:00<00:00, 223kB/s]\n",
      "Downloading: 100%|██████████| 116/116 [00:00<00:00, 43.6kB/s]\n",
      "Downloading: 100%|██████████| 39.3k/39.3k [00:00<00:00, 126kB/s] \n",
      "Downloading: 100%|██████████| 438M/438M [00:29<00:00, 14.9MB/s] \n",
      "Downloading: 100%|██████████| 53.0/53.0 [00:00<00:00, 13.0kB/s]\n",
      "Downloading: 100%|██████████| 239/239 [00:00<00:00, 79.6kB/s]\n",
      "Downloading: 100%|██████████| 466k/466k [00:01<00:00, 331kB/s]  \n",
      "Downloading: 100%|██████████| 363/363 [00:00<00:00, 117kB/s]\n",
      "Downloading: 100%|██████████| 13.1k/13.1k [00:00<00:00, 2.56MB/s]\n",
      "Downloading: 100%|██████████| 232k/232k [00:00<00:00, 273kB/s] \n",
      "Downloading: 100%|██████████| 349/349 [00:00<00:00, 141kB/s]\n"
     ]
    },
    {
     "name": "stdout",
     "output_type": "stream",
     "text": [
      "['singular value decomposition', 'eigendecomposition involves analyzing', 'eigendecomposition', 'square eigendecomposition deﬁned', 'eigendecomposition functions', 'eigendecomposition involves', 'eigendecomposition deﬁned', 'ofthe eigendecomposition', 'svd', 'square eigendecomposition']\n"
     ]
    }
   ],
   "source": [
    "from keybert import KeyBERT\n",
    "kw_model = KeyBERT(model='all-mpnet-base-v2')"
   ]
  },
  {
   "cell_type": "code",
   "execution_count": 24,
   "metadata": {},
   "outputs": [
    {
     "name": "stdout",
     "output_type": "stream",
     "text": [
      "['keyword extraction process', 'keyword extraction', 'keywords article text', 'fetch keywords article', 'text data keywords', 'identifying important words', 'keywords article', 'article help nlp', 'article text data', 'fetch keywords']\n"
     ]
    }
   ],
   "source": [
    "keywords = kw_model.extract_keywords(full_text, \n",
    "\n",
    "                                     keyphrase_ngram_range=(1, 3), \n",
    "\n",
    "                                     stop_words='english',\n",
    "\n",
    "                                     highlight=False,\n",
    "\n",
    "                                     top_n=10)\n",
    "\n",
    "keywords_list= list(dict(keywords).keys())\n",
    "\n",
    "print(keywords_list)"
   ]
  },
  {
   "cell_type": "code",
   "execution_count": null,
   "metadata": {},
   "outputs": [],
   "source": []
  }
 ],
 "metadata": {
  "kernelspec": {
   "display_name": "Python 3.10.5 64-bit",
   "language": "python",
   "name": "python3"
  },
  "language_info": {
   "codemirror_mode": {
    "name": "ipython",
    "version": 3
   },
   "file_extension": ".py",
   "mimetype": "text/x-python",
   "name": "python",
   "nbconvert_exporter": "python",
   "pygments_lexer": "ipython3",
   "version": "3.10.5"
  },
  "orig_nbformat": 4,
  "vscode": {
   "interpreter": {
    "hash": "aee8b7b246df8f9039afb4144a1f6fd8d2ca17a180786b69acc140d282b71a49"
   }
  }
 },
 "nbformat": 4,
 "nbformat_minor": 2
}
