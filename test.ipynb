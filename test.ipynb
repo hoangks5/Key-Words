{
 "cells": [
  {
   "cell_type": "code",
   "execution_count": 12,
   "metadata": {},
   "outputs": [],
   "source": [
    "with open('text.txt','r',encoding='utf-8') as file:\n",
    "    full_text = file.read()"
   ]
  },
  {
   "cell_type": "code",
   "execution_count": 13,
   "metadata": {},
   "outputs": [
    {
     "name": "stdout",
     "output_type": "stream",
     "text": [
      "Keyphrase:  octet-stream type posts : score 0.012957445239480963\n",
      "Keyphrase:  form-data type forms : score 0.016356499078172874\n",
      "Keyphrase:  octet-stream type : score 0.028378849701799807\n",
      "Keyphrase:  form-data type : score 0.028378849701799807\n",
      "Keyphrase:  working using application : score 0.028785995937607795\n",
      "Keyphrase:  images using flask : score 0.028785995937607795\n",
      "Keyphrase:  upload images : score 0.06424318756146702\n",
      "Keyphrase:  request working : score 0.07076208983559576\n",
      "Keyphrase:  type posts : score 0.08189860827394943\n",
      "Keyphrase:  type : score 0.09377536030868192\n"
     ]
    }
   ],
   "source": [
    "import yake\n",
    "kw_extractor = yake.KeywordExtractor(top=10, stopwords=None)\n",
    "keywords = kw_extractor.extract_keywords(full_text)\n",
    "for kw, v in keywords:\n",
    "  print(\"Keyphrase: \",kw, \": score\", v)"
   ]
  },
  {
   "cell_type": "code",
   "execution_count": 14,
   "metadata": {},
   "outputs": [
    {
     "name": "stdout",
     "output_type": "stream",
     "text": [
      "[('application/octet-stream type posts', 9.0), ('multipart/form-data type forms', 9.0), ('post based route', 7.0), ('request working', 4.0), ('upload images', 4.0), ('request element', 4.0), ('ajax call', 4.0), ('standard form', 3.5), ('post', 2.0), ('route', 2.0)]\n"
     ]
    }
   ],
   "source": [
    "from multi_rake import Rake\n",
    "rake = Rake()\n",
    "keywords = rake.apply(full_text)\n",
    "print(keywords[:10])"
   ]
  },
  {
   "cell_type": "code",
   "execution_count": 15,
   "metadata": {},
   "outputs": [
    {
     "name": "stdout",
     "output_type": "stream",
     "text": [
      "[('worked leveraging', 0.53008566495395), ('request working', 0.5300856649539487), ('werkzeug', 0.2650428324769752)]\n"
     ]
    }
   ],
   "source": [
    "from summa import keywords\n",
    "TR_keywords = keywords.keywords(full_text, scores=True)\n",
    "print(TR_keywords[0:10])"
   ]
  },
  {
   "cell_type": "code",
   "execution_count": 19,
   "metadata": {},
   "outputs": [
    {
     "name": "stdout",
     "output_type": "stream",
     "text": [
      "['images using flask', 'support multiple upload', 'upload files', 'upload images using', 'multiple upload files', 'multiple upload', 'upload images', 'multipart form data', 'multipart form', 'using flask extended']\n"
     ]
    }
   ],
   "source": [
    "from keybert import KeyBERT\n",
    "kw_model = KeyBERT(model='all-mpnet-base-v2')\n",
    "keywords = kw_model.extract_keywords(full_text, \n",
    "\n",
    "                                     keyphrase_ngram_range=(1, 3), \n",
    "\n",
    "                                     stop_words='english',\n",
    "\n",
    "                                     highlight=False,\n",
    "\n",
    "                                     top_n=10)\n",
    "\n",
    "keywords_list= list(dict(keywords).keys())\n",
    "print(keywords_list)"
   ]
  },
  {
   "cell_type": "code",
   "execution_count": 29,
   "metadata": {},
   "outputs": [
    {
     "name": "stderr",
     "output_type": "stream",
     "text": [
      "ERROR:root:No spacy model for 'en' language.\n",
      "ERROR:root:A list of available spacy models is available at https://spacy.io/models.\n"
     ]
    },
    {
     "ename": "TypeError",
     "evalue": "'NoneType' object is not iterable",
     "output_type": "error",
     "traceback": [
      "\u001b[0;31m---------------------------------------------------------------------------\u001b[0m",
      "\u001b[0;31mTypeError\u001b[0m                                 Traceback (most recent call last)",
      "\u001b[1;32m/Users/oraichain/Desktop/Key Words/test.ipynb Cell 6\u001b[0m in \u001b[0;36m<cell line: 3>\u001b[0;34m()\u001b[0m\n\u001b[1;32m      <a href='vscode-notebook-cell:/Users/oraichain/Desktop/Key%20Words/test.ipynb#ch0000005?line=0'>1</a>\u001b[0m \u001b[39mimport\u001b[39;00m \u001b[39mpke\u001b[39;00m\n\u001b[1;32m      <a href='vscode-notebook-cell:/Users/oraichain/Desktop/Key%20Words/test.ipynb#ch0000005?line=1'>2</a>\u001b[0m extractor \u001b[39m=\u001b[39m pke\u001b[39m.\u001b[39munsupervised\u001b[39m.\u001b[39mTopicRank()\n\u001b[0;32m----> <a href='vscode-notebook-cell:/Users/oraichain/Desktop/Key%20Words/test.ipynb#ch0000005?line=2'>3</a>\u001b[0m extractor\u001b[39m.\u001b[39;49mload_document(\u001b[39minput\u001b[39;49m\u001b[39m=\u001b[39;49m\u001b[39m'\u001b[39;49m\u001b[39mtext.txt\u001b[39;49m\u001b[39m'\u001b[39;49m, language\u001b[39m=\u001b[39;49m\u001b[39m'\u001b[39;49m\u001b[39men\u001b[39;49m\u001b[39m'\u001b[39;49m)\n\u001b[1;32m      <a href='vscode-notebook-cell:/Users/oraichain/Desktop/Key%20Words/test.ipynb#ch0000005?line=3'>4</a>\u001b[0m extractor\u001b[39m.\u001b[39mcandidate_selection()\n\u001b[1;32m      <a href='vscode-notebook-cell:/Users/oraichain/Desktop/Key%20Words/test.ipynb#ch0000005?line=4'>5</a>\u001b[0m extractor\u001b[39m.\u001b[39mcandidate_weighting()\n",
      "File \u001b[0;32m/Library/Frameworks/Python.framework/Versions/3.10/lib/python3.10/site-packages/pke/base.py:119\u001b[0m, in \u001b[0;36mLoadFile.load_document\u001b[0;34m(self, input, language, stoplist, normalization, spacy_model)\u001b[0m\n\u001b[1;32m    116\u001b[0m         stemmer \u001b[39m=\u001b[39m SnowballStemmer(\u001b[39m\"\u001b[39m\u001b[39mporter\u001b[39m\u001b[39m\"\u001b[39m)\n\u001b[1;32m    118\u001b[0m     \u001b[39m# populate Sentence.stems\u001b[39;00m\n\u001b[0;32m--> 119\u001b[0m     \u001b[39mfor\u001b[39;00m i, sentence \u001b[39min\u001b[39;00m \u001b[39menumerate\u001b[39;49m(\u001b[39mself\u001b[39;49m\u001b[39m.\u001b[39;49msentences):\n\u001b[1;32m    120\u001b[0m         \u001b[39mself\u001b[39m\u001b[39m.\u001b[39msentences[i]\u001b[39m.\u001b[39mstems \u001b[39m=\u001b[39m [stemmer\u001b[39m.\u001b[39mstem(w)\u001b[39m.\u001b[39mlower() \u001b[39mfor\u001b[39;00m w \u001b[39min\u001b[39;00m sentence\u001b[39m.\u001b[39mwords]\n\u001b[1;32m    122\u001b[0m \u001b[39melse\u001b[39;00m:\n",
      "\u001b[0;31mTypeError\u001b[0m: 'NoneType' object is not iterable"
     ]
    }
   ],
   "source": [
    "import pke\n",
    "extractor = pke.unsupervised.TopicRank()\n",
    "extractor.load_document(input='text.txt', language='en_core_web_sm')\n",
    "extractor.candidate_selection()\n",
    "extractor.candidate_weighting()\n",
    "keyphrases = extractor.get_n_best(n=10)"
   ]
  },
  {
   "cell_type": "code",
   "execution_count": null,
   "metadata": {},
   "outputs": [],
   "source": []
  }
 ],
 "metadata": {
  "kernelspec": {
   "display_name": "Python 3.10.5 64-bit",
   "language": "python",
   "name": "python3"
  },
  "language_info": {
   "codemirror_mode": {
    "name": "ipython",
    "version": 3
   },
   "file_extension": ".py",
   "mimetype": "text/x-python",
   "name": "python",
   "nbconvert_exporter": "python",
   "pygments_lexer": "ipython3",
   "version": "3.10.5"
  },
  "orig_nbformat": 4,
  "vscode": {
   "interpreter": {
    "hash": "aee8b7b246df8f9039afb4144a1f6fd8d2ca17a180786b69acc140d282b71a49"
   }
  }
 },
 "nbformat": 4,
 "nbformat_minor": 2
}
